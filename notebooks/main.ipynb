{
 "cells": [
  {
   "cell_type": "code",
   "execution_count": null,
   "id": "cc2d641d",
   "metadata": {},
   "outputs": [],
   "source": [
    "import pandas as pd"
   ]
  },
  {
   "cell_type": "code",
   "execution_count": null,
   "id": "3744b8b5",
   "metadata": {},
   "outputs": [],
   "source": [
    "# Define tickers and date range\n",
    "tickers = [\"TSLA\", \"BND\", \"SPY\"]\n",
    "start_date = \"2015-07-01\"\n",
    "end_date = \"2025-07-31\"\n",
    "\n",
    "# Download data for all tickers\n",
    "data = yf.download(tickers, start=start_date, end=end_date, group_by='ticker', auto_adjust=False)\n",
    "\n",
    "# Separate each dataset\n",
    "tsla_df = data['TSLA'].copy()\n",
    "bnd_df = data['BND'].copy()\n",
    "spy_df = data['SPY'].copy()\n",
    "\n",
    "# Reset index for clean DataFrame\n",
    "tsla_df.reset_index(inplace=True)\n",
    "bnd_df.reset_index(inplace=True)\n",
    "spy_df.reset_index(inplace=True)\n",
    "\n",
    "# Optional: Calculate daily volatility (close-to-close returns std dev over a rolling window)\n",
    "def add_volatility(df, window=21):\n",
    "    df['Daily Return'] = df['Adj Close'].pct_change()\n",
    "    df['Volatility'] = df['Daily Return'].rolling(window).std() * (252**0.5)  # Annualized\n",
    "    return df\n",
    "\n",
    "tsla_df = add_volatility(tsla_df)\n",
    "bnd_df = add_volatility(bnd_df)\n",
    "spy_df = add_volatility(spy_df)\n",
    "\n",
    "# Save to CSV (if needed)\n",
    "tsla_df.to_csv(\"TSLA_data.csv\", index=False)\n",
    "bnd_df.to_csv(\"BND_data.csv\", index=False)\n",
    "spy_df.to_csv(\"SPY_data.csv\", index=False)\n",
    "\n",
    "# Display summaries\n",
    "print(\"TSLA Sample Data:\\n\", tsla_df.head())\n",
    "print(\"\\nBND Sample Data:\\n\", bnd_df.head())\n",
    "print(\"\\nSPY Sample Data:\\n\", spy_df.head())\n"
   ]
  }
 ],
 "metadata": {
  "kernelspec": {
   "display_name": ".venv (3.12.8)",
   "language": "python",
   "name": "python3"
  },
  "language_info": {
   "name": "python",
   "version": "3.12.8"
  }
 },
 "nbformat": 4,
 "nbformat_minor": 5
}
