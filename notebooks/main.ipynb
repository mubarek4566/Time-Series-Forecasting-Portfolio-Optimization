{
 "cells": [
  {
   "cell_type": "code",
   "execution_count": 3,
   "id": "cc2d641d",
   "metadata": {},
   "outputs": [],
   "source": [
    "import pandas as pd\n",
    "import yfinance as yf\n",
    "import sys\n",
    "import os\n",
    "\n",
    "sys.path.append(os.path.abspath(\"../Scripts\"))\n",
    "sys.path.append(os.path.abspath(\"../src\"))\n",
    "\n",
    "from Download_data import StockData\n",
    "from data_preprocessing import DataPreprocessor\n",
    "from eda import StockAnalysis"
   ]
  },
  {
   "cell_type": "markdown",
   "id": "f130c878",
   "metadata": {},
   "source": [
    "## Task 1: Preprocess and Explore the Data\n",
    "### Load and Clean Data"
   ]
  },
  {
   "cell_type": "code",
   "execution_count": 4,
   "id": "3744b8b5",
   "metadata": {},
   "outputs": [],
   "source": [
    "tickers = ['TSLA', 'BND', 'SPY']\n",
    "start_date = \"2015-07-01\"\n",
    "end_date = \"2025-07-31\"\n",
    "\n",
    "# Create instance of StockData\n",
    "stock_data = StockData(tickers, start_date, end_date)\n"
   ]
  },
  {
   "cell_type": "code",
   "execution_count": 5,
   "id": "475c76f3",
   "metadata": {},
   "outputs": [
    {
     "name": "stderr",
     "output_type": "stream",
     "text": [
      "c:\\Users\\Specter\\Documents\\Tenx_Academy\\Week-11\\Time-Series-Forecasting-Portfolio-Optimization\\src\\Download_data.py:19: FutureWarning: YF.download() has changed argument auto_adjust default to True\n",
      "  self.data = yf.download(self.tickers, start=self.start_date, end=self.end_date)\n",
      "[*********************100%***********************]  3 of 3 completed\n"
     ]
    }
   ],
   "source": [
    "df = stock_data.download_data()"
   ]
  },
  {
   "cell_type": "code",
   "execution_count": 6,
   "id": "2c6c0dd1",
   "metadata": {},
   "outputs": [
    {
     "data": {
      "text/html": [
       "<div>\n",
       "<style scoped>\n",
       "    .dataframe tbody tr th:only-of-type {\n",
       "        vertical-align: middle;\n",
       "    }\n",
       "\n",
       "    .dataframe tbody tr th {\n",
       "        vertical-align: top;\n",
       "    }\n",
       "\n",
       "    .dataframe thead tr th {\n",
       "        text-align: left;\n",
       "    }\n",
       "\n",
       "    .dataframe thead tr:last-of-type th {\n",
       "        text-align: right;\n",
       "    }\n",
       "</style>\n",
       "<table border=\"1\" class=\"dataframe\">\n",
       "  <thead>\n",
       "    <tr>\n",
       "      <th>Price</th>\n",
       "      <th colspan=\"3\" halign=\"left\">Close</th>\n",
       "      <th colspan=\"3\" halign=\"left\">High</th>\n",
       "      <th colspan=\"3\" halign=\"left\">Low</th>\n",
       "      <th colspan=\"3\" halign=\"left\">Open</th>\n",
       "      <th colspan=\"3\" halign=\"left\">Volume</th>\n",
       "    </tr>\n",
       "    <tr>\n",
       "      <th>Ticker</th>\n",
       "      <th>BND</th>\n",
       "      <th>SPY</th>\n",
       "      <th>TSLA</th>\n",
       "      <th>BND</th>\n",
       "      <th>SPY</th>\n",
       "      <th>TSLA</th>\n",
       "      <th>BND</th>\n",
       "      <th>SPY</th>\n",
       "      <th>TSLA</th>\n",
       "      <th>BND</th>\n",
       "      <th>SPY</th>\n",
       "      <th>TSLA</th>\n",
       "      <th>BND</th>\n",
       "      <th>SPY</th>\n",
       "      <th>TSLA</th>\n",
       "    </tr>\n",
       "    <tr>\n",
       "      <th>Date</th>\n",
       "      <th></th>\n",
       "      <th></th>\n",
       "      <th></th>\n",
       "      <th></th>\n",
       "      <th></th>\n",
       "      <th></th>\n",
       "      <th></th>\n",
       "      <th></th>\n",
       "      <th></th>\n",
       "      <th></th>\n",
       "      <th></th>\n",
       "      <th></th>\n",
       "      <th></th>\n",
       "      <th></th>\n",
       "      <th></th>\n",
       "    </tr>\n",
       "  </thead>\n",
       "  <tbody>\n",
       "    <tr>\n",
       "      <th>2015-07-01</th>\n",
       "      <td>60.816769</td>\n",
       "      <td>174.917145</td>\n",
       "      <td>17.943333</td>\n",
       "      <td>60.914494</td>\n",
       "      <td>175.363920</td>\n",
       "      <td>18.174667</td>\n",
       "      <td>60.764146</td>\n",
       "      <td>174.124747</td>\n",
       "      <td>17.856667</td>\n",
       "      <td>60.794217</td>\n",
       "      <td>175.111025</td>\n",
       "      <td>18.073999</td>\n",
       "      <td>5399300</td>\n",
       "      <td>135979900</td>\n",
       "      <td>31518000</td>\n",
       "    </tr>\n",
       "    <tr>\n",
       "      <th>2015-07-02</th>\n",
       "      <td>60.967113</td>\n",
       "      <td>174.756943</td>\n",
       "      <td>18.667999</td>\n",
       "      <td>61.027255</td>\n",
       "      <td>175.566203</td>\n",
       "      <td>18.830000</td>\n",
       "      <td>60.937043</td>\n",
       "      <td>174.335456</td>\n",
       "      <td>18.220667</td>\n",
       "      <td>60.937043</td>\n",
       "      <td>175.397611</td>\n",
       "      <td>18.680000</td>\n",
       "      <td>1060100</td>\n",
       "      <td>104373700</td>\n",
       "      <td>107458500</td>\n",
       "    </tr>\n",
       "    <tr>\n",
       "      <th>2015-07-06</th>\n",
       "      <td>61.177544</td>\n",
       "      <td>174.259583</td>\n",
       "      <td>18.648001</td>\n",
       "      <td>61.222653</td>\n",
       "      <td>175.043542</td>\n",
       "      <td>18.779333</td>\n",
       "      <td>61.057266</td>\n",
       "      <td>173.256441</td>\n",
       "      <td>18.420000</td>\n",
       "      <td>61.222653</td>\n",
       "      <td>173.458760</td>\n",
       "      <td>18.591999</td>\n",
       "      <td>2210700</td>\n",
       "      <td>117975400</td>\n",
       "      <td>61828500</td>\n",
       "    </tr>\n",
       "    <tr>\n",
       "      <th>2015-07-07</th>\n",
       "      <td>61.237705</td>\n",
       "      <td>175.355453</td>\n",
       "      <td>17.858667</td>\n",
       "      <td>61.470746</td>\n",
       "      <td>175.481894</td>\n",
       "      <td>18.346666</td>\n",
       "      <td>61.237705</td>\n",
       "      <td>172.059422</td>\n",
       "      <td>17.384666</td>\n",
       "      <td>61.410611</td>\n",
       "      <td>174.461903</td>\n",
       "      <td>18.333332</td>\n",
       "      <td>4183200</td>\n",
       "      <td>173820200</td>\n",
       "      <td>91576500</td>\n",
       "    </tr>\n",
       "    <tr>\n",
       "      <th>2015-07-08</th>\n",
       "      <td>61.410614</td>\n",
       "      <td>172.413452</td>\n",
       "      <td>16.997334</td>\n",
       "      <td>61.463236</td>\n",
       "      <td>174.293280</td>\n",
       "      <td>17.386667</td>\n",
       "      <td>61.312883</td>\n",
       "      <td>172.177420</td>\n",
       "      <td>16.954000</td>\n",
       "      <td>61.373024</td>\n",
       "      <td>174.006672</td>\n",
       "      <td>17.288000</td>\n",
       "      <td>1967800</td>\n",
       "      <td>164020100</td>\n",
       "      <td>93316500</td>\n",
       "    </tr>\n",
       "  </tbody>\n",
       "</table>\n",
       "</div>"
      ],
      "text/plain": [
       "Price           Close                              High              \\\n",
       "Ticker            BND         SPY       TSLA        BND         SPY   \n",
       "Date                                                                  \n",
       "2015-07-01  60.816769  174.917145  17.943333  60.914494  175.363920   \n",
       "2015-07-02  60.967113  174.756943  18.667999  61.027255  175.566203   \n",
       "2015-07-06  61.177544  174.259583  18.648001  61.222653  175.043542   \n",
       "2015-07-07  61.237705  175.355453  17.858667  61.470746  175.481894   \n",
       "2015-07-08  61.410614  172.413452  16.997334  61.463236  174.293280   \n",
       "\n",
       "Price                        Low                              Open  \\\n",
       "Ticker           TSLA        BND         SPY       TSLA        BND   \n",
       "Date                                                                 \n",
       "2015-07-01  18.174667  60.764146  174.124747  17.856667  60.794217   \n",
       "2015-07-02  18.830000  60.937043  174.335456  18.220667  60.937043   \n",
       "2015-07-06  18.779333  61.057266  173.256441  18.420000  61.222653   \n",
       "2015-07-07  18.346666  61.237705  172.059422  17.384666  61.410611   \n",
       "2015-07-08  17.386667  61.312883  172.177420  16.954000  61.373024   \n",
       "\n",
       "Price                               Volume                        \n",
       "Ticker             SPY       TSLA      BND        SPY       TSLA  \n",
       "Date                                                              \n",
       "2015-07-01  175.111025  18.073999  5399300  135979900   31518000  \n",
       "2015-07-02  175.397611  18.680000  1060100  104373700  107458500  \n",
       "2015-07-06  173.458760  18.591999  2210700  117975400   61828500  \n",
       "2015-07-07  174.461903  18.333332  4183200  173820200   91576500  \n",
       "2015-07-08  174.006672  17.288000  1967800  164020100   93316500  "
      ]
     },
     "execution_count": 6,
     "metadata": {},
     "output_type": "execute_result"
    }
   ],
   "source": [
    "df.head()"
   ]
  },
  {
   "cell_type": "code",
   "execution_count": 7,
   "id": "6c52a0d0",
   "metadata": {},
   "outputs": [],
   "source": [
    "# Extract different price categories into separate DataFrames.\n",
    "close_df, high_df, low_df, open_df, volume_df = stock_data.extract_price_categories()"
   ]
  },
  {
   "cell_type": "code",
   "execution_count": 8,
   "id": "23c89883",
   "metadata": {},
   "outputs": [],
   "source": [
    "# Reset index of DataFrames.\n",
    "close_df, high_df, low_df, open_df, volume_df = stock_data.reset_indexes()"
   ]
  },
  {
   "cell_type": "code",
   "execution_count": 9,
   "id": "ed0fdebc",
   "metadata": {},
   "outputs": [],
   "source": [
    "close_df, high_df, low_df, open_df, volume_df = stock_data.melt_data()"
   ]
  },
  {
   "cell_type": "code",
   "execution_count": 10,
   "id": "e8abd3de",
   "metadata": {},
   "outputs": [],
   "source": [
    "# Get the merged DataFrame\n",
    "stock_data.merge_data()\n",
    "df_merged = stock_data.get_merged_data()"
   ]
  },
  {
   "cell_type": "code",
   "execution_count": 11,
   "id": "7b1bc043",
   "metadata": {},
   "outputs": [
    {
     "data": {
      "text/html": [
       "<div>\n",
       "<style scoped>\n",
       "    .dataframe tbody tr th:only-of-type {\n",
       "        vertical-align: middle;\n",
       "    }\n",
       "\n",
       "    .dataframe tbody tr th {\n",
       "        vertical-align: top;\n",
       "    }\n",
       "\n",
       "    .dataframe thead th {\n",
       "        text-align: right;\n",
       "    }\n",
       "</style>\n",
       "<table border=\"1\" class=\"dataframe\">\n",
       "  <thead>\n",
       "    <tr style=\"text-align: right;\">\n",
       "      <th></th>\n",
       "      <th>Date</th>\n",
       "      <th>Ticker</th>\n",
       "      <th>Open</th>\n",
       "      <th>Low</th>\n",
       "      <th>Volume</th>\n",
       "      <th>High</th>\n",
       "      <th>Close</th>\n",
       "    </tr>\n",
       "  </thead>\n",
       "  <tbody>\n",
       "    <tr>\n",
       "      <th>0</th>\n",
       "      <td>2015-07-01</td>\n",
       "      <td>TSLA</td>\n",
       "      <td>18.073999</td>\n",
       "      <td>17.856667</td>\n",
       "      <td>31518000</td>\n",
       "      <td>18.174667</td>\n",
       "      <td>17.943333</td>\n",
       "    </tr>\n",
       "    <tr>\n",
       "      <th>1</th>\n",
       "      <td>2015-07-02</td>\n",
       "      <td>TSLA</td>\n",
       "      <td>18.680000</td>\n",
       "      <td>18.220667</td>\n",
       "      <td>107458500</td>\n",
       "      <td>18.830000</td>\n",
       "      <td>18.667999</td>\n",
       "    </tr>\n",
       "    <tr>\n",
       "      <th>2</th>\n",
       "      <td>2015-07-06</td>\n",
       "      <td>TSLA</td>\n",
       "      <td>18.591999</td>\n",
       "      <td>18.420000</td>\n",
       "      <td>61828500</td>\n",
       "      <td>18.779333</td>\n",
       "      <td>18.648001</td>\n",
       "    </tr>\n",
       "    <tr>\n",
       "      <th>3</th>\n",
       "      <td>2015-07-07</td>\n",
       "      <td>TSLA</td>\n",
       "      <td>18.333332</td>\n",
       "      <td>17.384666</td>\n",
       "      <td>91576500</td>\n",
       "      <td>18.346666</td>\n",
       "      <td>17.858667</td>\n",
       "    </tr>\n",
       "    <tr>\n",
       "      <th>4</th>\n",
       "      <td>2015-07-08</td>\n",
       "      <td>TSLA</td>\n",
       "      <td>17.288000</td>\n",
       "      <td>16.954000</td>\n",
       "      <td>93316500</td>\n",
       "      <td>17.386667</td>\n",
       "      <td>16.997334</td>\n",
       "    </tr>\n",
       "  </tbody>\n",
       "</table>\n",
       "</div>"
      ],
      "text/plain": [
       "        Date Ticker       Open        Low     Volume       High      Close\n",
       "0 2015-07-01   TSLA  18.073999  17.856667   31518000  18.174667  17.943333\n",
       "1 2015-07-02   TSLA  18.680000  18.220667  107458500  18.830000  18.667999\n",
       "2 2015-07-06   TSLA  18.591999  18.420000   61828500  18.779333  18.648001\n",
       "3 2015-07-07   TSLA  18.333332  17.384666   91576500  18.346666  17.858667\n",
       "4 2015-07-08   TSLA  17.288000  16.954000   93316500  17.386667  16.997334"
      ]
     },
     "execution_count": 11,
     "metadata": {},
     "output_type": "execute_result"
    }
   ],
   "source": [
    "df_merged.head()"
   ]
  },
  {
   "cell_type": "markdown",
   "id": "cccb7ee3",
   "metadata": {},
   "source": [
    "###  Data cleaning and Understanding"
   ]
  },
  {
   "cell_type": "code",
   "execution_count": 12,
   "id": "cb46fe1f",
   "metadata": {},
   "outputs": [
    {
     "name": "stdout",
     "output_type": "stream",
     "text": [
      "<class 'pandas.core.frame.DataFrame'>\n",
      "RangeIndex: 7605 entries, 0 to 7604\n",
      "Data columns (total 7 columns):\n",
      " #   Column  Non-Null Count  Dtype         \n",
      "---  ------  --------------  -----         \n",
      " 0   Date    7605 non-null   datetime64[ns]\n",
      " 1   Ticker  7605 non-null   object        \n",
      " 2   Open    7605 non-null   float64       \n",
      " 3   Low     7605 non-null   float64       \n",
      " 4   Volume  7605 non-null   int64         \n",
      " 5   High    7605 non-null   float64       \n",
      " 6   Close   7605 non-null   float64       \n",
      "dtypes: datetime64[ns](1), float64(4), int64(1), object(1)\n",
      "memory usage: 416.0+ KB\n"
     ]
    }
   ],
   "source": [
    "df_merged.info()"
   ]
  },
  {
   "cell_type": "code",
   "execution_count": 13,
   "id": "7879be64",
   "metadata": {},
   "outputs": [
    {
     "data": {
      "text/html": [
       "<div>\n",
       "<style scoped>\n",
       "    .dataframe tbody tr th:only-of-type {\n",
       "        vertical-align: middle;\n",
       "    }\n",
       "\n",
       "    .dataframe tbody tr th {\n",
       "        vertical-align: top;\n",
       "    }\n",
       "\n",
       "    .dataframe thead th {\n",
       "        text-align: right;\n",
       "    }\n",
       "</style>\n",
       "<table border=\"1\" class=\"dataframe\">\n",
       "  <thead>\n",
       "    <tr style=\"text-align: right;\">\n",
       "      <th></th>\n",
       "      <th>Date</th>\n",
       "      <th>Open</th>\n",
       "      <th>Low</th>\n",
       "      <th>Volume</th>\n",
       "      <th>High</th>\n",
       "      <th>Close</th>\n",
       "    </tr>\n",
       "  </thead>\n",
       "  <tbody>\n",
       "    <tr>\n",
       "      <th>count</th>\n",
       "      <td>7605</td>\n",
       "      <td>7605.000000</td>\n",
       "      <td>7605.000000</td>\n",
       "      <td>7.605000e+03</td>\n",
       "      <td>7605.000000</td>\n",
       "      <td>7605.000000</td>\n",
       "    </tr>\n",
       "    <tr>\n",
       "      <th>mean</th>\n",
       "      <td>2020-07-12 16:49:59.289940992</td>\n",
       "      <td>178.199177</td>\n",
       "      <td>176.439129</td>\n",
       "      <td>6.788282e+07</td>\n",
       "      <td>179.837741</td>\n",
       "      <td>178.208641</td>\n",
       "    </tr>\n",
       "    <tr>\n",
       "      <th>min</th>\n",
       "      <td>2015-07-01 00:00:00</td>\n",
       "      <td>9.488000</td>\n",
       "      <td>9.403333</td>\n",
       "      <td>0.000000e+00</td>\n",
       "      <td>10.331333</td>\n",
       "      <td>9.578000</td>\n",
       "    </tr>\n",
       "    <tr>\n",
       "      <th>25%</th>\n",
       "      <td>2018-01-04 00:00:00</td>\n",
       "      <td>64.726095</td>\n",
       "      <td>64.633130</td>\n",
       "      <td>5.890700e+06</td>\n",
       "      <td>64.791261</td>\n",
       "      <td>64.718109</td>\n",
       "    </tr>\n",
       "    <tr>\n",
       "      <th>50%</th>\n",
       "      <td>2020-07-14 00:00:00</td>\n",
       "      <td>94.400665</td>\n",
       "      <td>91.734001</td>\n",
       "      <td>6.240820e+07</td>\n",
       "      <td>97.666664</td>\n",
       "      <td>94.571335</td>\n",
       "    </tr>\n",
       "    <tr>\n",
       "      <th>75%</th>\n",
       "      <td>2023-01-19 00:00:00</td>\n",
       "      <td>264.350006</td>\n",
       "      <td>261.211560</td>\n",
       "      <td>9.666270e+07</td>\n",
       "      <td>267.309998</td>\n",
       "      <td>264.350006</td>\n",
       "    </tr>\n",
       "    <tr>\n",
       "      <th>max</th>\n",
       "      <td>2025-07-30 00:00:00</td>\n",
       "      <td>638.349976</td>\n",
       "      <td>635.539978</td>\n",
       "      <td>9.140820e+08</td>\n",
       "      <td>638.669983</td>\n",
       "      <td>637.099976</td>\n",
       "    </tr>\n",
       "    <tr>\n",
       "      <th>std</th>\n",
       "      <td>NaN</td>\n",
       "      <td>151.799505</td>\n",
       "      <td>150.457746</td>\n",
       "      <td>6.784301e+07</td>\n",
       "      <td>153.033414</td>\n",
       "      <td>151.805674</td>\n",
       "    </tr>\n",
       "  </tbody>\n",
       "</table>\n",
       "</div>"
      ],
      "text/plain": [
       "                                Date         Open          Low        Volume  \\\n",
       "count                           7605  7605.000000  7605.000000  7.605000e+03   \n",
       "mean   2020-07-12 16:49:59.289940992   178.199177   176.439129  6.788282e+07   \n",
       "min              2015-07-01 00:00:00     9.488000     9.403333  0.000000e+00   \n",
       "25%              2018-01-04 00:00:00    64.726095    64.633130  5.890700e+06   \n",
       "50%              2020-07-14 00:00:00    94.400665    91.734001  6.240820e+07   \n",
       "75%              2023-01-19 00:00:00   264.350006   261.211560  9.666270e+07   \n",
       "max              2025-07-30 00:00:00   638.349976   635.539978  9.140820e+08   \n",
       "std                              NaN   151.799505   150.457746  6.784301e+07   \n",
       "\n",
       "              High        Close  \n",
       "count  7605.000000  7605.000000  \n",
       "mean    179.837741   178.208641  \n",
       "min      10.331333     9.578000  \n",
       "25%      64.791261    64.718109  \n",
       "50%      97.666664    94.571335  \n",
       "75%     267.309998   264.350006  \n",
       "max     638.669983   637.099976  \n",
       "std     153.033414   151.805674  "
      ]
     },
     "execution_count": 13,
     "metadata": {},
     "output_type": "execute_result"
    }
   ],
   "source": [
    "# Summary statistics\n",
    "df_merged.describe()"
   ]
  },
  {
   "cell_type": "code",
   "execution_count": 11,
   "id": "8e5372d6",
   "metadata": {},
   "outputs": [
    {
     "data": {
      "text/plain": [
       "Date      0\n",
       "Ticker    0\n",
       "Open      0\n",
       "Low       0\n",
       "Volume    0\n",
       "High      0\n",
       "Close     0\n",
       "dtype: int64"
      ]
     },
     "execution_count": 11,
     "metadata": {},
     "output_type": "execute_result"
    }
   ],
   "source": [
    "# Count missing values per column\n",
    "df_merged.isnull().sum()"
   ]
  },
  {
   "cell_type": "code",
   "execution_count": 14,
   "id": "2433044e",
   "metadata": {},
   "outputs": [
    {
     "data": {
      "text/plain": [
       "Date      datetime64[ns]\n",
       "Ticker            object\n",
       "Open             float64\n",
       "Low              float64\n",
       "Volume             int64\n",
       "High             float64\n",
       "Close            float64\n",
       "dtype: object"
      ]
     },
     "execution_count": 14,
     "metadata": {},
     "output_type": "execute_result"
    }
   ],
   "source": [
    "df_merged.dtypes"
   ]
  },
  {
   "cell_type": "code",
   "execution_count": 19,
   "id": "8ef18ec8",
   "metadata": {},
   "outputs": [
    {
     "data": {
      "text/plain": [
       "Ticker\n",
       "TSLA    2535\n",
       "BND     2535\n",
       "SPY     2535\n",
       "Name: count, dtype: int64"
      ]
     },
     "execution_count": 19,
     "metadata": {},
     "output_type": "execute_result"
    }
   ],
   "source": [
    "df_merged.Ticker.value_counts()"
   ]
  },
  {
   "cell_type": "markdown",
   "id": "624871b8",
   "metadata": {},
   "source": [
    "### Handling Duplicates"
   ]
  },
  {
   "cell_type": "code",
   "execution_count": 15,
   "id": "2bc64337",
   "metadata": {},
   "outputs": [],
   "source": [
    "# Initialize the preprocessor\n",
    "preprocessor = DataPreprocessor(df_merged)"
   ]
  },
  {
   "cell_type": "code",
   "execution_count": 16,
   "id": "2ccef6c6",
   "metadata": {},
   "outputs": [
    {
     "name": "stdout",
     "output_type": "stream",
     "text": [
      "Removed 0 duplicate rows.\n"
     ]
    }
   ],
   "source": [
    "# Apply data cleaning and transformation steps\n",
    "preprocessor.handle_duplicates()"
   ]
  },
  {
   "cell_type": "markdown",
   "id": "24c295c4",
   "metadata": {},
   "source": [
    "### Check Outlier"
   ]
  },
  {
   "cell_type": "code",
   "execution_count": 24,
   "id": "56425e4e",
   "metadata": {},
   "outputs": [
    {
     "name": "stdout",
     "output_type": "stream",
     "text": [
      "Outlier count per column: {'Open': np.int64(175), 'Low': np.int64(184), 'Volume': np.int64(208), 'High': np.int64(157), 'Close': np.int64(170)}\n"
     ]
    }
   ],
   "source": [
    "preprocessor.check_outliers()"
   ]
  },
  {
   "cell_type": "markdown",
   "id": "2fd0414f",
   "metadata": {},
   "source": [
    "### Data Normalization"
   ]
  },
  {
   "cell_type": "code",
   "execution_count": 17,
   "id": "d388af58",
   "metadata": {},
   "outputs": [
    {
     "data": {
      "text/html": [
       "<div>\n",
       "<style scoped>\n",
       "    .dataframe tbody tr th:only-of-type {\n",
       "        vertical-align: middle;\n",
       "    }\n",
       "\n",
       "    .dataframe tbody tr th {\n",
       "        vertical-align: top;\n",
       "    }\n",
       "\n",
       "    .dataframe thead th {\n",
       "        text-align: right;\n",
       "    }\n",
       "</style>\n",
       "<table border=\"1\" class=\"dataframe\">\n",
       "  <thead>\n",
       "    <tr style=\"text-align: right;\">\n",
       "      <th></th>\n",
       "      <th>Open</th>\n",
       "      <th>Low</th>\n",
       "      <th>Volume</th>\n",
       "      <th>High</th>\n",
       "      <th>Close</th>\n",
       "      <th>Ticker_SPY</th>\n",
       "      <th>Ticker_TSLA</th>\n",
       "      <th>Date</th>\n",
       "    </tr>\n",
       "  </thead>\n",
       "  <tbody>\n",
       "    <tr>\n",
       "      <th>0</th>\n",
       "      <td>0.013653</td>\n",
       "      <td>0.013501</td>\n",
       "      <td>0.034480</td>\n",
       "      <td>0.012483</td>\n",
       "      <td>0.013331</td>\n",
       "      <td>0.0</td>\n",
       "      <td>1.0</td>\n",
       "      <td>2015-07-01</td>\n",
       "    </tr>\n",
       "    <tr>\n",
       "      <th>1</th>\n",
       "      <td>0.014617</td>\n",
       "      <td>0.014082</td>\n",
       "      <td>0.117559</td>\n",
       "      <td>0.013526</td>\n",
       "      <td>0.014486</td>\n",
       "      <td>0.0</td>\n",
       "      <td>1.0</td>\n",
       "      <td>2015-07-02</td>\n",
       "    </tr>\n",
       "    <tr>\n",
       "      <th>2</th>\n",
       "      <td>0.014477</td>\n",
       "      <td>0.014400</td>\n",
       "      <td>0.067640</td>\n",
       "      <td>0.013445</td>\n",
       "      <td>0.014454</td>\n",
       "      <td>0.0</td>\n",
       "      <td>1.0</td>\n",
       "      <td>2015-07-06</td>\n",
       "    </tr>\n",
       "    <tr>\n",
       "      <th>3</th>\n",
       "      <td>0.014066</td>\n",
       "      <td>0.012747</td>\n",
       "      <td>0.100184</td>\n",
       "      <td>0.012756</td>\n",
       "      <td>0.013196</td>\n",
       "      <td>0.0</td>\n",
       "      <td>1.0</td>\n",
       "      <td>2015-07-07</td>\n",
       "    </tr>\n",
       "    <tr>\n",
       "      <th>4</th>\n",
       "      <td>0.012403</td>\n",
       "      <td>0.012059</td>\n",
       "      <td>0.102088</td>\n",
       "      <td>0.011229</td>\n",
       "      <td>0.011823</td>\n",
       "      <td>0.0</td>\n",
       "      <td>1.0</td>\n",
       "      <td>2015-07-08</td>\n",
       "    </tr>\n",
       "  </tbody>\n",
       "</table>\n",
       "</div>"
      ],
      "text/plain": [
       "       Open       Low    Volume      High     Close  Ticker_SPY  Ticker_TSLA  \\\n",
       "0  0.013653  0.013501  0.034480  0.012483  0.013331         0.0          1.0   \n",
       "1  0.014617  0.014082  0.117559  0.013526  0.014486         0.0          1.0   \n",
       "2  0.014477  0.014400  0.067640  0.013445  0.014454         0.0          1.0   \n",
       "3  0.014066  0.012747  0.100184  0.012756  0.013196         0.0          1.0   \n",
       "4  0.012403  0.012059  0.102088  0.011229  0.011823         0.0          1.0   \n",
       "\n",
       "        Date  \n",
       "0 2015-07-01  \n",
       "1 2015-07-02  \n",
       "2 2015-07-06  \n",
       "3 2015-07-07  \n",
       "4 2015-07-08  "
      ]
     },
     "execution_count": 17,
     "metadata": {},
     "output_type": "execute_result"
    }
   ],
   "source": [
    "# Processed Data\n",
    "processed_data = preprocessor.Normalized_data()\n",
    "processed_data.head()"
   ]
  },
  {
   "cell_type": "markdown",
   "id": "8f951ca2",
   "metadata": {},
   "source": [
    "### Conduct Exploratory Data Analysis (EDA):"
   ]
  },
  {
   "cell_type": "code",
   "execution_count": 18,
   "id": "aa086e0a",
   "metadata": {},
   "outputs": [],
   "source": [
    "# Sort index to ensure chronological order\n",
    "df = processed_data"
   ]
  },
  {
   "cell_type": "code",
   "execution_count": 19,
   "id": "24a6e08d",
   "metadata": {},
   "outputs": [],
   "source": [
    "df['Date'] = pd.to_datetime(df['Date'])\n",
    "\n",
    "# Set 'Date' as the index\n",
    "df = df.set_index('Date')\n",
    "\n",
    "# Sort by the new index\n",
    "df = df.sort_index()"
   ]
  },
  {
   "cell_type": "code",
   "execution_count": 20,
   "id": "dfa0e108",
   "metadata": {},
   "outputs": [
    {
     "data": {
      "text/html": [
       "<div>\n",
       "<style scoped>\n",
       "    .dataframe tbody tr th:only-of-type {\n",
       "        vertical-align: middle;\n",
       "    }\n",
       "\n",
       "    .dataframe tbody tr th {\n",
       "        vertical-align: top;\n",
       "    }\n",
       "\n",
       "    .dataframe thead th {\n",
       "        text-align: right;\n",
       "    }\n",
       "</style>\n",
       "<table border=\"1\" class=\"dataframe\">\n",
       "  <thead>\n",
       "    <tr style=\"text-align: right;\">\n",
       "      <th></th>\n",
       "      <th>Open</th>\n",
       "      <th>Low</th>\n",
       "      <th>Volume</th>\n",
       "      <th>High</th>\n",
       "      <th>Close</th>\n",
       "      <th>Ticker_SPY</th>\n",
       "      <th>Ticker_TSLA</th>\n",
       "    </tr>\n",
       "    <tr>\n",
       "      <th>Date</th>\n",
       "      <th></th>\n",
       "      <th></th>\n",
       "      <th></th>\n",
       "      <th></th>\n",
       "      <th></th>\n",
       "      <th></th>\n",
       "      <th></th>\n",
       "    </tr>\n",
       "  </thead>\n",
       "  <tbody>\n",
       "    <tr>\n",
       "      <th>2015-07-01</th>\n",
       "      <td>0.013653</td>\n",
       "      <td>0.013501</td>\n",
       "      <td>0.034480</td>\n",
       "      <td>0.012483</td>\n",
       "      <td>0.013331</td>\n",
       "      <td>0.0</td>\n",
       "      <td>1.0</td>\n",
       "    </tr>\n",
       "    <tr>\n",
       "      <th>2015-07-01</th>\n",
       "      <td>0.263369</td>\n",
       "      <td>0.263076</td>\n",
       "      <td>0.148761</td>\n",
       "      <td>0.262649</td>\n",
       "      <td>0.263479</td>\n",
       "      <td>1.0</td>\n",
       "      <td>0.0</td>\n",
       "    </tr>\n",
       "    <tr>\n",
       "      <th>2015-07-01</th>\n",
       "      <td>0.081586</td>\n",
       "      <td>0.082028</td>\n",
       "      <td>0.005907</td>\n",
       "      <td>0.080503</td>\n",
       "      <td>0.081653</td>\n",
       "      <td>0.0</td>\n",
       "      <td>0.0</td>\n",
       "    </tr>\n",
       "    <tr>\n",
       "      <th>2015-07-02</th>\n",
       "      <td>0.014617</td>\n",
       "      <td>0.014082</td>\n",
       "      <td>0.117559</td>\n",
       "      <td>0.013526</td>\n",
       "      <td>0.014486</td>\n",
       "      <td>0.0</td>\n",
       "      <td>1.0</td>\n",
       "    </tr>\n",
       "    <tr>\n",
       "      <th>2015-07-02</th>\n",
       "      <td>0.263825</td>\n",
       "      <td>0.263412</td>\n",
       "      <td>0.114184</td>\n",
       "      <td>0.262971</td>\n",
       "      <td>0.263224</td>\n",
       "      <td>1.0</td>\n",
       "      <td>0.0</td>\n",
       "    </tr>\n",
       "  </tbody>\n",
       "</table>\n",
       "</div>"
      ],
      "text/plain": [
       "                Open       Low    Volume      High     Close  Ticker_SPY  \\\n",
       "Date                                                                       \n",
       "2015-07-01  0.013653  0.013501  0.034480  0.012483  0.013331         0.0   \n",
       "2015-07-01  0.263369  0.263076  0.148761  0.262649  0.263479         1.0   \n",
       "2015-07-01  0.081586  0.082028  0.005907  0.080503  0.081653         0.0   \n",
       "2015-07-02  0.014617  0.014082  0.117559  0.013526  0.014486         0.0   \n",
       "2015-07-02  0.263825  0.263412  0.114184  0.262971  0.263224         1.0   \n",
       "\n",
       "            Ticker_TSLA  \n",
       "Date                     \n",
       "2015-07-01          1.0  \n",
       "2015-07-01          0.0  \n",
       "2015-07-01          0.0  \n",
       "2015-07-02          1.0  \n",
       "2015-07-02          0.0  "
      ]
     },
     "execution_count": 20,
     "metadata": {},
     "output_type": "execute_result"
    }
   ],
   "source": [
    "df.head()"
   ]
  },
  {
   "cell_type": "code",
   "execution_count": 21,
   "id": "e4bb7b49",
   "metadata": {},
   "outputs": [],
   "source": [
    "# Initialize the analysis class\n",
    "ts_analysis = StockAnalysis(df)"
   ]
  },
  {
   "cell_type": "code",
   "execution_count": 22,
   "id": "8192709d",
   "metadata": {},
   "outputs": [
    {
     "data": {
      "image/png": "[encoded data removed]",
      "text/plain": [
       "<Figure size 1200x600 with 1 Axes>"
      ]
     },
     "metadata": {},
     "output_type": "display_data"
    }
   ],
   "source": [
    "# Run Exploratory Data Analysis\n",
    "ts_analysis.plot_closing_price()"
   ]
  }
 ],
 "metadata": {
  "kernelspec": {
   "display_name": ".venv (3.12.8)",
   "language": "python",
   "name": "python3"
  },
  "language_info": {
   "codemirror_mode": {
    "name": "ipython",
    "version": 3
   },
   "file_extension": ".py",
   "mimetype": "text/x-python",
   "name": "python",
   "nbconvert_exporter": "python",
   "pygments_lexer": "ipython3",
   "version": "3.12.8"
  }
 },
 "nbformat": 4,
 "nbformat_minor": 5
}
